{
 "metadata": {
  "kernelspec": {
   "display_name": "Streamlit Notebook",
   "name": "streamlit"
  },
  "lastEditStatus": {
   "notebookId": "2asgeaq4kxkxkncv6vzk",
   "authorId": "4694818535622",
   "authorName": "EZER",
   "authorEmail": "ezerkar@gmail.com",
   "sessionId": "e2963fbf-e3ef-4f2b-bdab-e5d84a11f205",
   "lastEditTime": 1750013644701
  }
 },
 "nbformat_minor": 5,
 "nbformat": 4,
 "cells": [
  {
   "cell_type": "code",
   "id": "7021c82c-d092-45e4-96c9-f84b29ee78b4",
   "metadata": {
    "language": "sql",
    "name": "cell12"
   },
   "outputs": [],
   "source": "-- -- Create database and schema\n-- CREATE OR REPLACE DATABASE frostview_test;\n-- CREATE OR REPLACE SCHEMA frostview_test.public;\n\n-- -- Create table\n-- CREATE OR REPLACE TABLE frostview_test.public.sample_table (\n--     id INT NOT NULL,\n--     email STRING,\n--     age INT,\n--     city STRING NOT NULL\n-- );\n\n-- -- Insert sample data\n-- INSERT INTO frostview_test.public.sample_table (id, email, age, city) VALUES\n--     (1, 'a@example.com', 30, 'New York'),\n--     (2, 'b@example.com', 25, 'London'),\n--     (3, 'c@example.com', NULL, 'Tel Aviv'),\n--     (4, NULL, 40, 'Paris'),\n--     (5, NULL, NULL, 'Tokyo');\n",
   "execution_count": null
  },
  {
   "cell_type": "code",
   "id": "cebdf1bf-c1d8-4a5b-8cab-b41df170da2a",
   "metadata": {
    "language": "sql",
    "name": "cell4"
   },
   "outputs": [],
   "source": "CREATE DATABASE IF NOT EXISTS FROSTVIEW;\nCREATE SCHEMA IF NOT EXISTS FROSTVIEW.SYSTEM_TABLES;",
   "execution_count": null
  },
  {
   "cell_type": "code",
   "id": "fef01efb-4738-4160-a81b-3b85e76cf8b8",
   "metadata": {
    "language": "sql",
    "name": "cell1"
   },
   "outputs": [],
   "source": "CREATE TABLE IF NOT EXISTS frostview.system_tables.frostview_log (\n    run_id STRING,\n    run_time TIMESTAMP,\n    database_name STRING,\n    schema_name STRING,\n    table_name STRING,\n    column_name STRING,\n    test_type STRING, -- 'not_null' or 'unique'\n    passed BOOLEAN,\n    num_failed INT,\n    error_message STRING\n);\n",
   "execution_count": null
  },
  {
   "cell_type": "code",
   "id": "d2c370fb-2a55-4db4-9d4d-16698cfee229",
   "metadata": {
    "language": "sql",
    "name": "cell20"
   },
   "outputs": [],
   "source": "CREATE TABLE IF NOT EXISTS frostview.system_tables.test_config (\n    database_name STRING,\n    schema_name STRING,\n    table_name STRING,\n    column_name STRING,\n    test_type STRING,             -- 'not_null' or 'unique'\n    schedule_enabled BOOLEAN,     -- TRUE if scheduled\n    schedule_cron STRING,         -- Cron expression, e.g. '24h'\n    triggered_by STRING,          -- For future use: e.g. 'task:data_ingest_x'\n    created_at TIMESTAMP,\n    updated_at TIMESTAMP\n);\n",
   "execution_count": null
  },
  {
   "cell_type": "code",
   "id": "5d00ceae-3410-4263-b16e-dd7f424c91ef",
   "metadata": {
    "language": "python",
    "name": "cell6"
   },
   "outputs": [],
   "source": "import streamlit as st\nfrom snowflake.snowpark.session import Session\nfrom snowflake.snowpark.functions import col\nimport uuid\nfrom datetime import datetime\nimport pandas as pd",
   "execution_count": null
  },
  {
   "cell_type": "code",
   "id": "e4a34c7f-a62b-4634-8ce4-6e6f889accd0",
   "metadata": {
    "language": "python",
    "name": "cell7"
   },
   "outputs": [],
   "source": "# Connect to Snowflake\nsession = Session.builder.configs({\n    \"connection_name\": \"my_connection\"\n}).getOrCreate()",
   "execution_count": null
  },
  {
   "cell_type": "code",
   "id": "8415d84d-24df-424b-bdbb-3c1f3571a180",
   "metadata": {
    "language": "python",
    "name": "cell10"
   },
   "outputs": [],
   "source": "st.title(\"FrostView: Table Validator\")\n\nwith st.form(\"table_form\"):\n    user_input = st.text_input(\"Enter full table name (format: DB.SCHEMA.TABLE):\")\n    submitted = st.form_submit_button(\"Submit\")\n\nif submitted:\n    parts = user_input.strip().split(\".\")\n    if len(parts) != 3:\n        st.error(\"Please enter the table name in format: DB.SCHEMA.TABLE\")\n    else:\n        try:\n            session.sql(f\"SELECT * FROM {user_input.strip()} LIMIT 1\").collect()\n            st.success(f\"Table '{user_input.strip()}' exists and is accessible.\")\n        except Exception as e:\n            st.error(f\"Table access failed: {e}\")\n",
   "execution_count": null
  },
  {
   "cell_type": "code",
   "id": "7fec2072-a974-4aa8-a1ac-f924486dbe7f",
   "metadata": {
    "language": "python",
    "name": "cell8"
   },
   "outputs": [],
   "source": "def generate_run_id():\n    return f\"fv_run_{uuid.uuid4().hex[:8]}\"",
   "execution_count": null
  },
  {
   "cell_type": "code",
   "id": "15670eb4-9f45-4482-abab-f5ecd5e1535c",
   "metadata": {
    "language": "python",
    "name": "cell2"
   },
   "outputs": [],
   "source": "def run_not_null_test(session, db, schema, table, column):\n    run_id = generate_run_id()\n    run_time = datetime.now()\n    full_table = f\"{db}.{schema}.{table}\"\n\n    try:\n        rows = session.sql(f\"\"\"\n            SELECT COUNT(*) AS num_failed\n            FROM {full_table}\n            WHERE {column} IS NULL\n            LIMIT 1\n        \"\"\").collect()\n\n        result = rows[0][\"NUM_FAILED\"] if rows else 0\n        passed = result == 0\n        error_message = None\n\n    except Exception as e:\n        result = None\n        passed = False\n        error_message = str(e)\n\n    log_df = pd.DataFrame([{\n        \"run_id\": run_id,\n        \"run_time\": run_time,\n        \"database_name\": db,\n        \"schema_name\": schema,\n        \"table_name\": table,\n        \"column_name\": column,\n        \"test_type\": \"not_null\",\n        \"passed\": passed,\n        \"num_failed\": result,\n        \"error_message\": error_message\n    }])\n\n    session.sql(\"USE DATABASE frostview\").collect()\n    session.sql(\"USE SCHEMA system_tables\").collect()\n    log_table = \"FROSTVIEW_LOG\"\n    log_df.columns = [c.upper() for c in log_df.columns]\n    session.write_pandas(\n        log_df,\n        table_name=log_table,\n        auto_create_table=False,\n        overwrite=False\n    )\n\n    return passed, log_df\n",
   "execution_count": null
  },
  {
   "cell_type": "code",
   "id": "32ef7151-7d04-4ea2-887e-b572b523786c",
   "metadata": {
    "language": "python",
    "name": "cell3"
   },
   "outputs": [],
   "source": "def run_unique_test(session, db, schema, table, column):\n    run_id = generate_run_id()\n    run_time = datetime.now()\n    full_table = f\"{db}.{schema}.{table}\"\n\n    try:\n        rows = session.sql(f\"\"\"\n            SELECT COUNT(*) AS num_failed FROM (\n                SELECT {column}, COUNT(*) AS cnt\n                FROM {full_table}\n                GROUP BY {column}\n                HAVING COUNT(*) > 1\n            )\n            LIMIT 1\n        \"\"\").collect()\n\n        result = rows[0][\"NUM_FAILED\"] if rows else 0\n        passed = result == 0\n        error_message = None\n\n    except Exception as e:\n        result = None\n        passed = False\n        error_message = str(e)\n\n    log_df = pd.DataFrame([{\n        \"run_id\": run_id,\n        \"run_time\": run_time,\n        \"database_name\": db,\n        \"schema_name\": schema,\n        \"table_name\": table,\n        \"column_name\": column,\n        \"test_type\": \"unique\",\n        \"passed\": passed,\n        \"num_failed\": result,\n        \"error_message\": error_message\n    }])\n\n    session.sql(\"USE DATABASE frostview\").collect()\n    session.sql(\"USE SCHEMA system_tables\").collect()\n    log_table =\"FROSTVIEW_LOG\"\n    log_df.columns = [c.upper() for c in log_df.columns]\n    session.write_pandas(\n        log_df,\n        table_name=log_table,\n        auto_create_table=False,\n        overwrite=False\n    )\n\n    return passed, log_df",
   "execution_count": null
  },
  {
   "cell_type": "code",
   "id": "46a5ed3b-7395-4259-815f-8b68da6a0678",
   "metadata": {
    "language": "python",
    "name": "cell19"
   },
   "outputs": [],
   "source": "columns = session.table(user_input.strip()).columns\ndb, schema, table = user_input.strip().split(\".\")",
   "execution_count": null
  },
  {
   "cell_type": "code",
   "id": "f7108260-541e-46eb-ae26-ebfbe47349ae",
   "metadata": {
    "language": "python",
    "name": "cell25"
   },
   "outputs": [],
   "source": "def get_active_tests(session, db='frostview', \n                     schema='system_tables', table='frost_config'):\n    query = f\"\"\"\n        SELECT column_name, test_type\n        FROM frostview.system_tables.test_config\n        WHERE database_name = '{db}'\n          AND schema_name = '{schema}'\n          AND table_name = '{table}'\n    \"\"\"\n    rows = session.sql(query).collect()\n\n    # Build dict: { column: {test_type: True/False} }\n    config = {}\n    for row in rows:\n        col = row[\"COLUMN_NAME\"]\n        test = row[\"TEST_TYPE\"]\n        config.setdefault(col, {})[test] = True\n\n    return config\n",
   "execution_count": null
  },
  {
   "cell_type": "code",
   "id": "551074a2-2d66-447c-8f61-ba0b47e9057a",
   "metadata": {
    "language": "python",
    "name": "cell26"
   },
   "outputs": [],
   "source": "active_config = get_active_tests(session)",
   "execution_count": null
  },
  {
   "cell_type": "code",
   "id": "6dac1182-5f0a-49a0-ad07-3c324b18f103",
   "metadata": {
    "language": "python",
    "name": "cell27"
   },
   "outputs": [],
   "source": "active_config",
   "execution_count": null
  },
  {
   "cell_type": "code",
   "id": "5109f5ea-fea0-40c3-9b86-8e19445fbde4",
   "metadata": {
    "language": "python",
    "name": "cell21"
   },
   "outputs": [],
   "source": "def add_test_to_config(session, db, schema, table, column, test_type):\n    now = datetime.now()\n    session.sql(f\"\"\"\n        INSERT INTO frostview.system_tables.test_config (\n            database_name, schema_name, table_name,\n            column_name, test_type,\n            schedule_enabled, schedule_cron,\n            triggered_by, created_at, updated_at\n        )\n        VALUES (\n            '{db}', '{schema}', '{table}',\n            '{column}', '{test_type}',\n            TRUE, '24h', NULL,\n            '{now}', '{now}'\n        )\n    \"\"\").collect()",
   "execution_count": null
  },
  {
   "cell_type": "code",
   "id": "2433f3ed-068c-42fe-8be0-f863eb870611",
   "metadata": {
    "language": "python",
    "name": "cell22"
   },
   "outputs": [],
   "source": "def remove_test_from_config(session, db, schema, table, column, test_type):\n    session.sql(f\"\"\"\n        DELETE FROM frostview.system_tables.test_config\n        WHERE database_name = '{db}'\n          AND schema_name = '{schema}'\n          AND table_name = '{table}'\n          AND column_name = '{column}'\n          AND test_type = '{test_type}'\n    \"\"\").collect()",
   "execution_count": null
  },
  {
   "cell_type": "code",
   "id": "77f86e90-79fb-4ab8-b0da-08923a9d6cfe",
   "metadata": {
    "language": "python",
    "name": "cell18"
   },
   "outputs": [],
   "source": "for col in columns:\n    with st.expander(f\"🧩 `{col}`\", expanded=False):\n        col_config = active_config.get(col, {})\n        is_nn_scheduled = col_config.get(\"not_null\", False)\n        is_uq_scheduled = col_config.get(\"unique\", False)\n\n        # --- Ad-hoc run ---\n        st.write(\"### ▶️ Run Once (Ad-hoc)\")\n        if st.button(\"Run NOT NULL now\", key=f\"run_nn_{col}\"):\n            passed, log = run_not_null_test(session, db, schema, table, col)\n            st.success(\"✅ Passed\" if passed else \"❌ Failed\")\n            st.dataframe(log)\n\n        if st.button(\"Run UNIQUE now\", key=f\"run_uq_{col}\"):\n            passed, log = run_unique_test(session, db, schema, table, col)\n            st.success(\"✅ Passed\" if passed else \"❌ Failed\")\n            st.dataframe(log)\n\n        # --- Scheduling UI ---\n        st.write(\"### ⏰ Schedule Every 24 Hours\")\n\n        if not is_nn_scheduled:\n            if st.button(\"📅 Schedule NOT NULL test\", key=f\"sched_nn_{col}\"):\n                add_test_to_config(session, db, schema, table, col, \"not_null\")\n                st.success(\"Scheduled NOT NULL test for 24h\")\n        else:\n            if st.button(\"❌ Unschedule NOT NULL\", key=f\"unsched_nn_{col}\"):\n                remove_test_from_config(session, db, schema, table, col, \"not_null\")\n                st.warning(\"Unscheduled NOT NULL test\")\n\n        if not is_uq_scheduled:\n            if st.button(\"📅 Schedule UNIQUE test\", key=f\"sched_uq_{col}\"):\n                add_test_to_config(session, db, schema, table, col, \"unique\")\n                st.success(\"Scheduled UNIQUE test for 24h\")\n        else:\n            if st.button(\"❌ Unschedule UNIQUE\", key=f\"unsched_uq_{col}\"):\n                remove_test_from_config(session, db, schema, table, col, \"unique\")\n                st.warning(\"Unscheduled UNIQUE test\")\n",
   "execution_count": null
  },
  {
   "cell_type": "code",
   "id": "28f69786-2324-4ec3-9b1c-ddd8f0507013",
   "metadata": {
    "language": "python",
    "name": "cell17"
   },
   "outputs": [],
   "source": "for col in columns:\n    st.markdown(f\"---\\n#### Column: `{col}`\")\n\n    col_config = active_config.get(col, {})\n    is_nn_scheduled = col_config.get(\"not_null\", False)\n    is_uq_scheduled = col_config.get(\"unique\", False)\n\n    col1, col2, col3 = st.columns(3)\n\n    with col1:\n        st.markdown(\"**NOT NULL test**\")\n\n        if st.button(\"▶️ Run now\", key=f\"run_nn_{col}\"):\n            passed, log = run_not_null_test(session, db, schema, table, col)\n            st.success(\"✅ Passed\" if passed else \"❌ Failed\")\n            st.dataframe(log)\n\n        if not is_nn_scheduled:\n            if st.button(\"📅 Schedule 24h\", key=f\"sched_nn_{col}\"):\n                add_test_to_config(session, db, schema, table, col, \"not_null\")\n                st.success(\"Scheduled every 24h\")\n        else:\n            if st.button(\"❌ Unschedule\", key=f\"unsched_nn_{col}\"):\n                remove_test_from_config(session, db, schema, table, col, \"not_null\")\n                st.warning(\"Unscheduled\")\n\n    with col2:\n        st.markdown(\"**UNIQUE test**\")\n\n        if st.button(\"▶️ Run now\", key=f\"run_uq_{col}\"):\n            passed, log = run_unique_test(session, db, schema, table, col)\n            st.success(\"✅ Passed\" if passed else \"❌ Failed\")\n            st.dataframe(log)\n\n        if not is_uq_scheduled:\n            if st.button(\"📅 Schedule 24h\", key=f\"sched_uq_{col}\"):\n                add_test_to_config(session, db, schema, table, col, \"unique\")\n                st.success(\"Scheduled every 24h\")\n        else:\n            if st.button(\"❌ Unschedule\", key=f\"unsched_uq_{col}\"):\n                remove_test_from_config(session, db, schema, table, col, \"unique\")\n                st.warning(\"Unscheduled\")\n\n    with col3:\n        st.markdown(\"**Status**\")\n        st.markdown(f\"NOT NULL: {'✅' if is_nn_scheduled else '❌'}\")\n        st.markdown(f\"UNIQUE: {'✅' if is_uq_scheduled else '❌'}\")\n",
   "execution_count": null
  },
  {
   "cell_type": "code",
   "id": "7d8faf99-17d5-49b9-9baa-f8f9a00fb3d5",
   "metadata": {
    "language": "python",
    "name": "cell16"
   },
   "outputs": [],
   "source": "",
   "execution_count": null
  },
  {
   "cell_type": "code",
   "id": "a9b66289-127c-491d-9208-0c15b4324e7b",
   "metadata": {
    "language": "python",
    "name": "cell15"
   },
   "outputs": [],
   "source": "",
   "execution_count": null
  },
  {
   "cell_type": "code",
   "id": "ba84d178-e509-49f8-b000-3f432a69f44d",
   "metadata": {
    "language": "python",
    "name": "cell14"
   },
   "outputs": [],
   "source": "",
   "execution_count": null
  },
  {
   "cell_type": "code",
   "id": "ab16625a-65d9-40a0-bf48-b53e94690403",
   "metadata": {
    "language": "python",
    "name": "cell13"
   },
   "outputs": [],
   "source": "",
   "execution_count": null
  },
  {
   "cell_type": "code",
   "id": "f0167276-ef8b-461e-9b9e-7a0905c7525f",
   "metadata": {
    "language": "python",
    "name": "cell9"
   },
   "outputs": [],
   "source": "",
   "execution_count": null
  },
  {
   "cell_type": "code",
   "id": "bb65fb42-ee40-4467-b123-b68fc6aec9ec",
   "metadata": {
    "language": "python",
    "name": "cell5"
   },
   "outputs": [],
   "source": "# # Parse table name from user input\n# db, schema, table = user_input.strip().split(\".\")\n\n# # Get column names from the table\n# table_ref = session.table(user_input.strip())\n# columns = table_ref.columns\n\n# results = []\n\n# st.markdown(\"### 🧪 Running Tests on All Columns\")\n\n# for col in columns:\n#     st.write(f\"🔍 Column: `{col}`\")\n\n#     # Run NOT NULL test\n#     passed_nn, log_nn = run_not_null_test(session, db, schema, table, col)\n#     st.write(f\"  NOT NULL: {'✅ Pass' if passed_nn else '❌ Fail'}\")\n#     results.append(log_nn)\n\n#     # Run UNIQUE test\n#     passed_uniq, log_uniq = run_unique_test(session, db, schema, table, col)\n#     st.write(f\"  UNIQUE: {'✅ Pass' if passed_uniq else '❌ Fail'}\")\n#     results.append(log_uniq)\n\n# # Show logs as a dataframe\n# import pandas as pd\n# st.markdown(\"### ✅ Test Logs Summary\")\n# st.dataframe(pd.concat(results, ignore_index=True))\n",
   "execution_count": null
  }
 ]
}