{
 "cells": [
  {
   "cell_type": "code",
   "source": [
    "-- ## FrostView Installer\n",
    "CREATE TABLE IF NOT EXISTS frostview_logs (\n",
    "    check_name STRING,\n",
    "    object_name STRING,\n",
    "    object_type STRING,\n",
    "    check_type STRING,\n",
    "    check_result STRING,\n",
    "    check_value FLOAT,\n",
    "    threshold FLOAT,\n",
    "    created_at TIMESTAMP_LTZ DEFAULT CURRENT_TIMESTAMP()\n",
    ");"
   ],
   "metadata": {},
   "execution_count": null,
   "outputs": []
  }
 ],
 "metadata": {},
 "nbformat": 4,
 "nbformat_minor": 2
}
