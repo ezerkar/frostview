{
 "metadata": {
  "kernelspec": {
   "display_name": "Streamlit Notebook",
   "name": "streamlit"
  },
  "lastEditStatus": {
   "notebookId": "sagglxrnoehfr4fgmjlh",
   "authorId": "6115617336119",
   "authorName": "EZERKARA",
   "authorEmail": "ezerkar@gmail.com",
   "sessionId": "86f91477-35df-4a2c-8a73-d10bec252550",
   "lastEditTime": 1746356812925
  }
 },
 "nbformat_minor": 5,
 "nbformat": 4,
 "cells": [
  {
   "cell_type": "code",
   "id": "a89cfc10-f043-4b0d-b67a-5f1bf428dcad",
   "metadata": {
    "language": "sql",
    "name": "cell1"
   },
   "outputs": [],
   "source": "create database if not exists IP_ALERT;\ncreate schema if not exists IP_ALERT.LOGINS;\ncreate table if not exists IP_ALERT.LOGINS.USER_EMAIL_SETTINGS (EMAIL STRING);",
   "execution_count": null
  },
  {
   "cell_type": "code",
   "id": "6ecd19c2-5195-4355-978d-389cc795a8d9",
   "metadata": {
    "language": "python",
    "name": "cell5"
   },
   "outputs": [],
   "source": "",
   "execution_count": null
  },
  {
   "cell_type": "code",
   "id": "a0fd3c29-e4cc-4fe3-a0b6-ff198da20fa7",
   "metadata": {
    "language": "sql",
    "name": "cell3"
   },
   "outputs": [],
   "source": "create view if not exists ip_alert.logins.last_login_with_check as (\nWITH last_login_per_user AS (\n  SELECT\n    USER_NAME,\n    CLIENT_IP,\n    EVENT_TIMESTAMP,\n    ROW_NUMBER() OVER (PARTITION BY USER_NAME ORDER BY EVENT_TIMESTAMP DESC) AS rn\n  FROM SNOWFLAKE.ACCOUNT_USAGE.LOGIN_HISTORY\n),\nall_logins_excluding_last AS (\n  SELECT\n    USER_NAME,\n    CLIENT_IP,\n    EVENT_TIMESTAMP\n  FROM last_login_per_user\n  WHERE rn > 1 AND event_timestamp < dateadd('minute', -15, current_timestamp())\n),\nlast_login_with_check AS (\n  SELECT\n    l.USER_NAME,\n    l.CLIENT_IP AS LAST_LOGIN_IP,\n    EVENT_TIMESTAMP as LAST_LOGIN_TIMESTAMP,\n    CASE\n      WHEN EXISTS (\n        SELECT 1\n        FROM all_logins_excluding_last a\n        WHERE a.USER_NAME = l.USER_NAME AND a.CLIENT_IP = l.CLIENT_IP\n      ) THEN 'YES'\n      ELSE 'NO'\n    END AS LAST_IP_USED_BEFORE\n  FROM last_login_per_user l\n  WHERE l.rn = 1 AND USER_NAME != 'SNOWFLAKE'\n)\nSELECT * FROM last_login_with_check);",
   "execution_count": null
  },
  {
   "cell_type": "code",
   "id": "a90f4bb2-efe6-48c4-b854-ed1f104a91a2",
   "metadata": {
    "language": "sql",
    "name": "cell2"
   },
   "outputs": [],
   "source": "CREATE OR REPLACE PROCEDURE ip_alert.logins.detect_new_ip_logins()\nRETURNS STRING\nLANGUAGE PYTHON\nRUNTIME_VERSION = '3.11'\nHANDLER = 'run'\nPACKAGES = ('snowflake-snowpark-python', 'pandas')\nAS\n$$\ndef run(session):\n    df = session.table(\"ip_alert.logins.last_login_with_check\") \\\n                .filter(\"LAST_IP_USED_BEFORE = 'NO'\") \\\n                .to_pandas()\n\n    if df.empty:\n        return \"No new IPs flagged.\"\n\n    email_row = session.sql(\"SELECT email FROM ip_alert.logins.user_email_settings LIMIT 1\").collect()\n    if email_row:\n        email = email_row[0][\"EMAIL\"]\n        body = \"\\n\".join(\n                f\"{row['USER_NAME']:<12} {row['LAST_LOGIN_IP']:<15} {row['LAST_LOGIN_TIMESTAMP']}\"\n                for _, row in df.iterrows())\n        q = \"CALL SYSTEM$SEND_EMAIL('email_alerts_int', '\"+email+\"', 'New Login IP detected', '\"+body+\"')\"\n        session.sql(q).collect()\n    \n\n    return \"new IPs flagged.\"\n$$;",
   "execution_count": null
  },
  {
   "cell_type": "code",
   "id": "62d62f64-52fc-471b-9c9c-00cb4fe9dc3f",
   "metadata": {
    "language": "python",
    "name": "cell4"
   },
   "outputs": [],
   "source": "import streamlit as st\nimport snowflake.snowpark as snowpark\n\nsession = snowpark.Session.builder.getOrCreate()\n\nst.title(\"🔐 Login IP Monitor\")\n\nemail = st.text_input(\"Your email for alerts\")\nif st.button(\"Save Email\"):\n    session.sql(\"DELETE FROM ip_alert.logins.user_email_settings\").collect()\n    session.sql(f\"INSERT INTO ip_alert.logins.user_email_settings VALUES ('{email}')\").collect()\n    q = f\"\"\"CREATE OR REPLACE NOTIFICATION INTEGRATION email_alerts_int\n           TYPE = EMAIL\n           ENABLED = TRUE\n           ALLOWED_RECIPIENTS = ('{email}');\n           \"\"\"\n    session.sql(q).collect()\n    st.success(\"Email saved!\")\n\nif st.button(\"Run Now\"):\n    result = session.sql(\"CALL ip_alert.logins.detect_new_ip_logins()\").collect()\n    st.info(result[0][0])\n    df = session.table(\"ip_alert.logins.last_login_with_check\") \\\n                .filter(\"LAST_IP_USED_BEFORE = 'NO'\") \\\n                .to_pandas()\n    st.dataframe(df, use_container_width=True)\n\nif st.button('Create Task'):\n    num_of_mins = st.text_input(\"Every X minutes:\")\n    q = f\"\"\"CREATE OR REPLACE TASK ip_alert.logins.check_new_ip_logins_task\n            SCHEDULE = '{num_of_mins} MINUTE'\n            AS\n            CALL ip_alert.logins.detect_new_ip_logins();\n            \"\"\"\n    session.sql(q).collect()\n    q = 'ALTER TASK ip_alert.logins.check_new_ip_logins_task RESUME'\n    session.sql(q).collect()\n    st.success('task created')\n    # q = 'describe task ip_alert.logins.check_new_ip_logins_task'\n    # st.success(session.sql(q).collect())\n        ",
   "execution_count": null
  }
 ]
}